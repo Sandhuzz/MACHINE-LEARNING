{
 "cells": [
  {
   "cell_type": "code",
   "execution_count": 2,
   "id": "aad75edb-8613-40b5-a41a-33d543b3c080",
   "metadata": {},
   "outputs": [
    {
     "data": {
      "text/plain": [
       "'🔹 Lasso Regression (L1 Regularization)\\n\\nDefinition: Lasso Regression is similar to Ridge but uses L1 regularization instead of L2.\\n\\n\\nLasso can shrink some coefficients to exactly zero, effectively performing feature selection.\\n\\nThis makes it useful for datasets with many irrelevant features.\\n\\n👉 Good when you want a sparse model (only important features kept).'"
      ]
     },
     "execution_count": 2,
     "metadata": {},
     "output_type": "execute_result"
    }
   ],
   "source": [
    "'''🔹 Lasso Regression (L1 Regularization)\n",
    "\n",
    "Definition: Lasso Regression is similar to Ridge but uses L1 regularization instead of L2.\n",
    "\n",
    "\n",
    "Lasso can shrink some coefficients to exactly zero, effectively performing feature selection.\n",
    "\n",
    "This makes it useful for datasets with many irrelevant features.\n",
    "\n",
    "👉 Good when you want a sparse model (only important features kept).'''"
   ]
  },
  {
   "cell_type": "code",
   "execution_count": null,
   "id": "51320f56-3b9f-45db-b992-c1176c79a5e3",
   "metadata": {},
   "outputs": [],
   "source": [
    "# Lasso Regression Example with Prediction & Graph\n",
    "import numpy as np\n",
    "import pandas as pd\n",
    "import matplotlib.pyplot as plt\n",
    "from sklearn.model_selection import train_test_split\n",
    "from sklearn.preprocessing import StandardScaler\n",
    "from sklearn.linear_model import Lasso\n",
    "from sklearn.metrics import mean_squared_error, r2_score\n",
    "from sklearn.datasets import fetch_california_housing\n",
    "\n",
    "# Load dataset\n",
    "data = fetch_california_housing(as_frame=True)\n",
    "df = data.frame\n",
    "\n",
    "X = df.drop(\"MedHouseVal\", axis=1)\n",
    "y = df[\"MedHouseVal\"]\n",
    "\n",
    "X_train, X_test, y_train, y_test = train_test_split(X, y, test_size=0.2, random_state=42)\n",
    "\n",
    "# Scale features\n",
    "scaler = StandardScaler()\n",
    "X_train_scaled = scaler.fit_transform(X_train)\n",
    "X_test_scaled = scaler.transform(X_test)\n",
    "\n",
    "# Train Lasso Regression model\n",
    "lasso_model = Lasso(alpha=0.01, max_iter=10000)\n",
    "lasso_model.fit(X_train_scaled, y_train)\n",
    "\n",
    "# Predictions\n",
    "y_pred_lasso = lasso_model.predict(X_test_scaled)\n",
    "\n",
    "# Evaluation\n",
    "print(\"🔹 Lasso Regression\")\n",
    "print(\"MSE:\", mean_squared_error(y_test, y_pred_lasso))\n",
    "print(\"Accuracy (R² Score): {:.2f}%\".format(r2_score(y_test, y_pred_lasso) * 100))\n",
    "\n",
    "# Custom prediction (example: first row of test data)\n",
    "sample = X_test.iloc[0:1]\n",
    "sample_scaled = scaler.transform(sample)\n",
    "prediction = lasso_model.predict(sample_scaled)\n",
    "print(\"\\nCustom Input Prediction (Lasso):\", prediction[0])\n",
    "\n",
    "# ------------------------------------------------------\n",
    "# Visualization: Actual vs Predicted\n",
    "plt.figure(figsize=(8,6))\n",
    "plt.scatter(y_test, y_pred_lasso, alpha=0.5, color=\"blue\", label=\"Predicted vs Actual\")\n",
    "plt.plot([y_test.min(), y_test.max()], [y_test.min(), y_test.max()], \"r--\", lw=2, label=\"Perfect Prediction\")\n",
    "plt.xlabel(\"Actual Values\")\n",
    "plt.ylabel(\"Predicted Values\")\n",
    "plt.title(\"Lasso Regression - Actual vs Predicted\")\n",
    "plt.legend()\n",
    "plt.show()\n"
   ]
  }
 ],
 "metadata": {
  "kernelspec": {
   "display_name": "Python [conda env:base]",
   "language": "python",
   "name": "conda-base-py"
  },
  "language_info": {
   "codemirror_mode": {
    "name": "ipython",
    "version": 3
   },
   "file_extension": ".py",
   "mimetype": "text/x-python",
   "name": "python",
   "nbconvert_exporter": "python",
   "pygments_lexer": "ipython3",
   "version": "3.10.13"
  }
 },
 "nbformat": 4,
 "nbformat_minor": 5
}
